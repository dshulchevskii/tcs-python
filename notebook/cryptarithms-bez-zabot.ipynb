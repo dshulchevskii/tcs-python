{
 "cells": [
  {
   "cell_type": "markdown",
   "metadata": {
    "slideshow": {
     "slide_type": "slide"
    }
   },
   "source": [
    "# Числовой ребус\n",
    "\n",
    "<img src=\"https://wikimedia.org/api/rest_v1/media/math/render/svg/60eeaf958fa73a6a989f00725cf7d4c3f516e929\" width=\"200\">\n",
    "\n",
    "**Крипторитм** - математическая головоломка, пример арифметического действия, в котором все или некоторые цифры заменены буквами, звёздочками или другими символами.  \n",
    "Задание состоит в том, чтобы восстановить исходную запись примера [wiki](https://ru.wikipedia.org/wiki/Числовой_ребус)."
   ]
  },
  {
   "cell_type": "code",
   "execution_count": null,
   "metadata": {
    "collapsed": true,
    "slideshow": {
     "slide_type": "slide"
    }
   },
   "outputs": [],
   "source": [
    "from itertools import permutations\n",
    "\n",
    "def solve_puzzle(X, Y, Z):\n",
    "    '''Solve cryptarithms X + Y = Z\n",
    "\n",
    "    >>> solution = solve_puzzle('АА', 'ББ', 'ВВ')\n",
    "    >>> solution == {'А': '1', 'Б': '2', 'В': '3'}\n",
    "    True\n",
    "    '''\n",
    "    digits = '0123456789'\n",
    "    chars = sorted(set(X + Y + Z))\n",
    "    for shuffle in permutations(digits, len(chars)):\n",
    "        solution = {c: d for c, d in zip(chars, shuffle)}\n",
    "        convert = lambda s: int(''.join(solution[c] for c in s))\n",
    "        if convert(X) + convert(Y) == convert(Z):\n",
    "            return solution"
   ]
  },
  {
   "cell_type": "code",
   "execution_count": null,
   "metadata": {
    "slideshow": {
     "slide_type": "subslide"
    }
   },
   "outputs": [],
   "source": [
    "solution = solve_puzzle('SEND', 'MORE', 'MONEY')\n",
    "print(solution)"
   ]
  },
  {
   "cell_type": "code",
   "execution_count": null,
   "metadata": {
    "slideshow": {
     "slide_type": "-"
    }
   },
   "outputs": [],
   "source": [
    "puzzle = '''\n",
    "  SEND\n",
    "+ MORE\n",
    "------\n",
    " MONEY\n",
    "'''  \n",
    "print(''.join([solution.get(c, c) for c in puzzle]))"
   ]
  },
  {
   "cell_type": "code",
   "execution_count": null,
   "metadata": {
    "collapsed": true,
    "slideshow": {
     "slide_type": "slide"
    }
   },
   "outputs": [],
   "source": [
    "def parsing(request):\n",
    "    '''Split the request into parts\n",
    "    \n",
    "    >>> parsing('AB + CDE = FG')\n",
    "    ('AB', 'CDE', 'FG')\n",
    "    '''\n",
    "    summands, Z = request.split('=')\n",
    "    X, Y = summands.split('+')\n",
    "    return X.strip(), Y.strip(), Z.strip()"
   ]
  },
  {
   "cell_type": "code",
   "execution_count": null,
   "metadata": {
    "slideshow": {
     "slide_type": "subslide"
    }
   },
   "outputs": [],
   "source": [
    "parsing('SEND + MORE=     MONEY')"
   ]
  },
  {
   "cell_type": "markdown",
   "metadata": {
    "slideshow": {
     "slide_type": "slide"
    }
   },
   "source": [
    "# Телеграм Бот\n",
    "\n",
    "<img src=\"https://core.telegram.org/file/811140327/1/zlN4goPTupk/9ff2f2f01c4bd1b013\" width=\"200\">\n",
    "\n",
    "#### План действий   \n",
    "* пишем в телеграмме https://t.me/BotFather\n",
    "* придумываем имя боту. У моего - [`CryptarithmsBezZabot`](https://t.me/CryptarithmsBezZabot)\n",
    "* получаем токен от BotFather\\`а (он потребуется для подключения)\n",
    "* следуя [туториалу](https://www.gitbook.com/book/groosha/telegram-bot-lessons/details), реализуем возможность решать  головоломку\n",
    "* [официальная страница телеграма про бота](https://core.telegram.org/bots)"
   ]
  },
  {
   "cell_type": "markdown",
   "metadata": {
    "slideshow": {
     "slide_type": "slide"
    }
   },
   "source": [
    "Устанавливаем API для обращения с телеграмм ботом [github](https://github.com/eternnoir/pyTelegramBotAPI#getting-started)."
   ]
  },
  {
   "cell_type": "code",
   "execution_count": null,
   "metadata": {
    "collapsed": true
   },
   "outputs": [],
   "source": [
    "import telebot # !pip install pyTelegramBotAPI"
   ]
  },
  {
   "cell_type": "markdown",
   "metadata": {
    "slideshow": {
     "slide_type": "fragment"
    }
   },
   "source": [
    "Используя magic, записываем выданный токен в файл для того, чтобы не светить его в коде."
   ]
  },
  {
   "cell_type": "code",
   "execution_count": null,
   "metadata": {
    "collapsed": true
   },
   "outputs": [],
   "source": [
    "# %%writefile config.py\n",
    "# tocken = '<сюда вставить токен>'"
   ]
  },
  {
   "cell_type": "markdown",
   "metadata": {
    "slideshow": {
     "slide_type": "fragment"
    }
   },
   "source": [
    "Импортируем наш токен из записанного файла"
   ]
  },
  {
   "cell_type": "code",
   "execution_count": null,
   "metadata": {
    "collapsed": true
   },
   "outputs": [],
   "source": [
    "from config import tocken"
   ]
  },
  {
   "cell_type": "markdown",
   "metadata": {
    "slideshow": {
     "slide_type": "slide"
    }
   },
   "source": [
    "Создаем бота"
   ]
  },
  {
   "cell_type": "code",
   "execution_count": null,
   "metadata": {
    "collapsed": true
   },
   "outputs": [],
   "source": [
    "bot = telebot.TeleBot(tocken) # Создаем бота"
   ]
  },
  {
   "cell_type": "markdown",
   "metadata": {
    "slideshow": {
     "slide_type": "slide"
    }
   },
   "source": [
    "Функция обработки одного сообщения"
   ]
  },
  {
   "cell_type": "code",
   "execution_count": null,
   "metadata": {
    "collapsed": true
   },
   "outputs": [],
   "source": [
    "@bot.message_handler(content_types=[\"text\"]) # Декоратор - изменяет поведение функции\n",
    "def repet_to(message):        # Название функции не играет никакой роли\n",
    "    chat_id = message.chat.id # message содержит все необходимые данные\n",
    "    request = message.text\n",
    "    try:                           # Если возникнет ошибка, то мы ее обработаем\n",
    "        X, Y, Z = parsing(request) # Скорее всего ошибка будет при попытке разбора сообщения\n",
    "        bot.send_message(chat_id, '🤔 посмотрим ...') # Отправлем сообщение (нужно указать чат!)\n",
    "        solution = solve_puzzle(X, Y, Z)\n",
    "        if solution:\n",
    "            answer = ''.join([solution.get(c, c) for c in request])\n",
    "            bot.send_message(chat_id, answer)\n",
    "        else:\n",
    "            bot.send_message(chat_id, '😒 решений нет')\n",
    "    except Exception as e: # Ловим исключение\n",
    "        bot.send_message(chat_id, '😳 не понял?') # Отправляем сообщение"
   ]
  },
  {
   "cell_type": "markdown",
   "metadata": {
    "slideshow": {
     "slide_type": "slide"
    }
   },
   "source": [
    "Запускаем бесконечный цикл на прослушивание сообщений.  \n",
    "Чтобы остановиться, нужно бросить **`KeyboardInterrupt`**."
   ]
  },
  {
   "cell_type": "code",
   "execution_count": null,
   "metadata": {
    "collapsed": true
   },
   "outputs": [],
   "source": [
    "bot.polling(none_stop=True)"
   ]
  },
  {
   "cell_type": "markdown",
   "metadata": {
    "slideshow": {
     "slide_type": "fragment"
    }
   },
   "source": [
    "Бот отвечает на сообщения, но чтобы он работал, нужно оставить сессию Питона на ноутбуке 😒."
   ]
  },
  {
   "cell_type": "markdown",
   "metadata": {
    "slideshow": {
     "slide_type": "slide"
    }
   },
   "source": [
    "### https://www.pythonanywhere.com\n",
    "\n",
    "\n",
    "Есть бесплатные сервера, на которых можно запускать нашего бота.  \n",
    "Я использую - **`pythonanywhere`** (можно покрутить скрипт в течении 24 часов)."
   ]
  },
  {
   "cell_type": "markdown",
   "metadata": {
    "slideshow": {
     "slide_type": "slide"
    }
   },
   "source": [
    "### Сначала регистрируемся\n",
    "Все стандартно: почта и придумать пароль.\n",
    "\n",
    "### Установка окружения\n",
    "Находима bash консоль. Нам нужно установить API телеграмма. \n",
    "Выполняем:\n",
    "```bash\n",
    "pip3.6 install --user pyTelegramBotAPI\n",
    "```\n",
    "### Копирование кода\n",
    "Теперь через веб интерфейс создадим два питоновских файлика.\n"
   ]
  },
  {
   "cell_type": "markdown",
   "metadata": {
    "slideshow": {
     "slide_type": "skip"
    }
   },
   "source": [
    "#### `config.py`\n",
    "```python\n",
    "tocken = <сюда вставить токен>\n",
    "```\n",
    "\n",
    "#### `cryptarithms.py`\n",
    "```python\n",
    "#!/usr/bin/python3.6\n",
    "# -*- coding: UTF-8 -*-\n",
    "import telebot\n",
    "from itertools import permutations\n",
    "\n",
    "from config import tocken\n",
    "\n",
    "\n",
    "def solve_puzzle(X, Y, Z):\n",
    "    '''Solve cryptarithms X + Y = Z\n",
    "\n",
    "    >>> solution = solve_puzzle('AA', 'BB', 'CC')\n",
    "    >>> solution == {'A': '1', 'B': '2', 'C': '3'}\n",
    "    True\n",
    "    '''\n",
    "    digits = '0123456789'\n",
    "    chars = sorted(set(X + Y + Z))\n",
    "    for shuffle in permutations(digits, len(chars)):\n",
    "        solution = {c: d for c, d in zip(chars, shuffle)}\n",
    "        convert = lambda s: int(''.join(solution[c] for c in s))\n",
    "        if convert(X) + convert(Y) == convert(Z):\n",
    "            return solution\n",
    "\n",
    "\n",
    "def parsing(request):\n",
    "    '''Split the request into parts\n",
    "\n",
    "    >>> parsing('AB + CDE = FG')\n",
    "    ('AB', 'CDE', 'FG')\n",
    "    '''\n",
    "    summands, Z = request.split('=')\n",
    "    X, Y = summands.split('+')\n",
    "    return X.strip(), Y.strip(), Z.strip()\n",
    "\n",
    "\n",
    "bot = telebot.TeleBot(tocken)\n",
    "\n",
    "\n",
    "@bot.message_handler(content_types=[\"text\"]) # Декоратор - изменяет поведение определяемой функции\n",
    "def repet_to(message):        # Название функции не играет никакой роли\n",
    "    chat_id = message.chat.id # message содержит все необходимые данные\n",
    "    request = message.text\n",
    "    print(message.text)\n",
    "    try:                           # Если возникнет ошибка, то мы ее обработаем\n",
    "        X, Y, Z = parsing(request) # Скорее всего ошибка будет при попытке разбора сообщения\n",
    "        bot.send_message(chat_id, '🤔 посмотрим ...') # Отправлем сообщение (нужно указать чат!)\n",
    "        solution = solve_puzzle(X, Y, Z)\n",
    "        if solution:\n",
    "            answer = ''.join([solution.get(c, c) for c in request])\n",
    "            bot.send_message(chat_id, answer)\n",
    "        else:\n",
    "            bot.send_message(chat_id, '😒 решений нет')\n",
    "    except Exception: # Ловим исключение\n",
    "        bot.send_message(chat_id, '😳 не понял?') # Отправляем сообщение\n",
    "\n",
    "\n",
    "if __name__ == '__main__':\n",
    "    bot.polling(none_stop=True)\n",
    "\n",
    "  ```"
   ]
  },
  {
   "cell_type": "markdown",
   "metadata": {
    "slideshow": {
     "slide_type": "slide"
    }
   },
   "source": [
    "### Запуск выполнения\n",
    "\n",
    "Опять открываем консоль и выполняем:\n",
    "```bash\n",
    "python3.6 cryptarithms.py\n",
    "```\n",
    "\n",
    "### Итог\n",
    "\n",
    "Бот должен теперь крутиться на сервере и отвечать на сообщения."
   ]
  },
  {
   "cell_type": "markdown",
   "metadata": {
    "slideshow": {
     "slide_type": "slide"
    }
   },
   "source": [
    "# Данмоеше знааиде\n",
    "\n",
    "По рзелульаттам илссеовадний одонго анлигйсокго унвиертисета, не иеемт \n",
    "занчнеия, в кокам пряокде рсапожолены бкувы в солве. Галвоне, чотбы \n",
    "преавя и пслоендяя бквуы блыи на мсете. Осатьлыне бкувы мгоут селдовтаь \n",
    "в плоонм бсепордяке, все-рвано ткест чтаитсея без побрелм. \n",
    "Пичрионй эгото ялвятеся то, что мы не чиатем кдаужю бкуву по \n",
    "отдльенотси, а все солво цликеом. \n",
    "\n",
    "Зиадане зюаачслктея в том, чбтоы сдеалть тламгреем бтоа, котрыой будет пашеертевмиь бкувы в слаовх из сеоноищбя. Првеая и поясндлея бвкуы длонжы оастьтся на метсе."
   ]
  },
  {
   "cell_type": "code",
   "execution_count": null,
   "metadata": {
    "collapsed": true,
    "slideshow": {
     "slide_type": "slide"
    }
   },
   "outputs": [],
   "source": [
    "from random import shuffle\n",
    "\n",
    "def mix_letters_in(word):\n",
    "    '''Permutation of letters\n",
    "    \n",
    "    >>> mix_letters_in('Мы')\n",
    "    'Мы'\n",
    "    >>> mix_letters_in('англичане')\n",
    "    'ачанглие'\n",
    "    \n",
    "    '''\n",
    "    pass\n",
    "\n",
    "def british_mixing(text):\n",
    "    '''Everyday i'm shuffling\n",
    "    \n",
    "    >>> british_mixing('Британские ученые доказали, что ...')\n",
    "    'Брсиитнаке унычее дзаколаи, что ...'\n",
    "    '''\n",
    "    pass"
   ]
  }
 ],
 "metadata": {
  "kernelspec": {
   "display_name": "Python [conda root]",
   "language": "python",
   "name": "conda-root-py"
  },
  "language_info": {
   "codemirror_mode": {
    "name": "ipython",
    "version": 3
   },
   "file_extension": ".py",
   "mimetype": "text/x-python",
   "name": "python",
   "nbconvert_exporter": "python",
   "pygments_lexer": "ipython3",
   "version": "3.5.3"
  }
 },
 "nbformat": 4,
 "nbformat_minor": 2
}
