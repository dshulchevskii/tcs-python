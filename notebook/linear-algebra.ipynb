{
 "cells": [
  {
   "cell_type": "markdown",
   "metadata": {
    "slideshow": {
     "slide_type": "slide"
    }
   },
   "source": [
    "# Линейная алгебра в Python\n",
    "* [NumPy](#NumPy)\n",
    "* [NumPy array](#NumPy-array)\n",
    "* [Создание массивов](#Создание-массивов)\n",
    "* [Сравнение скорости работы](#Сравнение-скорости-работы)\n",
    "* [Поэлементные операции](#Поэлементные-операции)\n",
    "* [Задача - индексирование](#Задача---индексирование)\n",
    "* [Задача - Шкалирование](#Задача---Шкалирование)\n",
    "* [Задача - Линейная-регрессия](#Задача---Линейная-регрессия)\n",
    "* [Ссылки](#Ссылки)"
   ]
  },
  {
   "cell_type": "markdown",
   "metadata": {
    "slideshow": {
     "slide_type": "slide"
    }
   },
   "source": [
    "# NumPy\n",
    "\n",
    "<img src=\"http://www.numpy.org/_static/numpy_logo.png\" width=\"200\">\n",
    "\n",
    "**NumPy** — это библиотека с открытым исходным кодом для языка программирования Python.\n",
    "\n",
    "* Поддержка многомерных массивов (включая матрицы).\n",
    "* Поддержка высокоуровневых математических функций, предназначенных для работы с многомерными массивами."
   ]
  },
  {
   "cell_type": "markdown",
   "metadata": {
    "slideshow": {
     "slide_type": "slide"
    }
   },
   "source": [
    "# NumPy array\n",
    "<img src=\"http://www.extremetech.com/media/images/1030.gif?thumb=y\" width=\"200\">\n",
    "\n",
    "**`ndarray`** - класс однородных многомерных массивов.  \n",
    "В `numpy` доступно большое количество методов и функций по работе с массивами."
   ]
  },
  {
   "cell_type": "markdown",
   "metadata": {
    "slideshow": {
     "slide_type": "slide"
    }
   },
   "source": [
    "## Создание массивов"
   ]
  },
  {
   "cell_type": "code",
   "execution_count": null,
   "metadata": {
    "collapsed": true
   },
   "outputs": [],
   "source": [
    "import numpy as np"
   ]
  },
  {
   "cell_type": "code",
   "execution_count": null,
   "metadata": {
    "collapsed": true
   },
   "outputs": [],
   "source": [
    "np.array([1, 2, 4])"
   ]
  },
  {
   "cell_type": "code",
   "execution_count": null,
   "metadata": {
    "collapsed": true
   },
   "outputs": [],
   "source": [
    "np.arange(10)"
   ]
  },
  {
   "cell_type": "markdown",
   "metadata": {
    "slideshow": {
     "slide_type": "slide"
    }
   },
   "source": [
    "Полезные функции, создающие массив:\n",
    "* [`array`](https://docs.scipy.org/doc/numpy-dev/reference/generated/numpy.array.html#numpy.array)\n",
    "* [`linspace`](https://docs.scipy.org/doc/numpy-dev/reference/generated/numpy.linspace.html#numpy.linspace)\n",
    "* [`arange`](https://docs.scipy.org/doc/numpy-dev/reference/generated/numpy.arange.html#numpy.arange)\n",
    "* [Подробнее](https://docs.scipy.org/doc/numpy-dev/user/quickstart.html#functions-and-methods-overview)"
   ]
  },
  {
   "cell_type": "markdown",
   "metadata": {
    "slideshow": {
     "slide_type": "slide"
    }
   },
   "source": [
    "# Сравнение скорости работы"
   ]
  },
  {
   "cell_type": "code",
   "execution_count": null,
   "metadata": {
    "collapsed": true
   },
   "outputs": [],
   "source": [
    "for d in [4, 7]:\n",
    "    print('dimension: ', d)\n",
    "    lst = list(range(10**d))\n",
    "    arr = np.arange(10**d)\n",
    "    %time sum(lst)\n",
    "    %time np.sum(arr)\n",
    "    print('-'*20)"
   ]
  },
  {
   "cell_type": "code",
   "execution_count": null,
   "metadata": {
    "collapsed": true
   },
   "outputs": [],
   "source": []
  },
  {
   "cell_type": "markdown",
   "metadata": {
    "slideshow": {
     "slide_type": "slide"
    }
   },
   "source": [
    "# Поэлементные операции"
   ]
  },
  {
   "cell_type": "code",
   "execution_count": null,
   "metadata": {
    "collapsed": true
   },
   "outputs": [],
   "source": [
    "arr1 = np.arange(10)\n",
    "arr2 = np.arange(100, 110)"
   ]
  },
  {
   "cell_type": "code",
   "execution_count": null,
   "metadata": {
    "collapsed": true
   },
   "outputs": [],
   "source": []
  },
  {
   "cell_type": "markdown",
   "metadata": {
    "slideshow": {
     "slide_type": "slide"
    }
   },
   "source": [
    "# Задача - индексирование\n",
    "Реализуйте функцию, принимающую на вход матрицу X и два массива i и j одинаковой длины и возвращающую вектор np.array, состоящий из последовательности элементов [X[i[0], j[0]], X[i[1], j[1]], ..., X[i[N-1], j[N-1]]]."
   ]
  },
  {
   "cell_type": "code",
   "execution_count": null,
   "metadata": {
    "collapsed": true
   },
   "outputs": [],
   "source": [
    "def construct_array(X, i, j):\n",
    "    '''\n",
    "    >>> X = np.array([[0, 1, 2], [3, 4, 5]])\n",
    "    >>> i = np.array([0, 0, 0, 1, 1, 1])\n",
    "    >>> j = np.array([0, 1, 2, 2, 1, 0])\n",
    "    >>> construct_array(X, i, j)\n",
    "    array([0, 1, 2, 5, 4, 3])\n",
    "    '''\n",
    "    pass"
   ]
  },
  {
   "cell_type": "code",
   "execution_count": null,
   "metadata": {
    "collapsed": true
   },
   "outputs": [],
   "source": []
  },
  {
   "cell_type": "markdown",
   "metadata": {
    "slideshow": {
     "slide_type": "slide"
    }
   },
   "source": [
    "# Задача - Шкалирование\n",
    "Написать функцию, которая получает на вход матрицу и масштабирует каждый её столбец, а именно вычитает из столбца его среднее значение и делит столбец на стандартное отклонение. "
   ]
  },
  {
   "cell_type": "code",
   "execution_count": null,
   "metadata": {
    "collapsed": true
   },
   "outputs": [],
   "source": [
    "def scale(X):\n",
    "    '''Scaling the matrix\n",
    "    \n",
    "    >>> X = np.random.randn(10, 3)\n",
    "    >>> X_sc = scale(X)\n",
    "    >>> X_sc.std(axis=0)\n",
    "    array([ 1.,  1.,  1.])\n",
    "    >>> X_sc.mean(axis=0)\n",
    "    array([ 0.,  0.,  0.])\n",
    "    '''\n",
    "    pass"
   ]
  },
  {
   "cell_type": "code",
   "execution_count": null,
   "metadata": {
    "collapsed": true
   },
   "outputs": [],
   "source": []
  },
  {
   "cell_type": "markdown",
   "metadata": {
    "slideshow": {
     "slide_type": "slide"
    }
   },
   "source": [
    "# Задача - Линейная регрессия\n",
    "\n",
    "\n",
    "Путь $X$ - матрица признаков, а $y$ - целевая переменная. Функция потерь $Q = |Xw - y|^2 + C|w|^2$.\n",
    "\n",
    "Решение $\\hat{w} = (X^TX + СI)^{-1}X^Ty$.\n",
    "\n",
    "Реализуете класс - линейная регрессия.\n",
    "[wiki](http://www.machinelearning.ru/wiki/index.php?title=Гребневая_регрессия)"
   ]
  },
  {
   "cell_type": "code",
   "execution_count": null,
   "metadata": {
    "collapsed": true
   },
   "outputs": [],
   "source": [
    "class LinearReg():\n",
    "\n",
    "    def __init__(self, C=1):\n",
    "        pass\n",
    "\n",
    "    def fit(self, X, y):\n",
    "        pass\n",
    "        return self\n",
    "\n",
    "    def predict(self, X):\n",
    "        pass"
   ]
  },
  {
   "cell_type": "code",
   "execution_count": null,
   "metadata": {
    "collapsed": true
   },
   "outputs": [],
   "source": []
  },
  {
   "cell_type": "markdown",
   "metadata": {
    "slideshow": {
     "slide_type": "slide"
    }
   },
   "source": [
    "Полезные функции:\n",
    "* [`.dot`](https://docs.scipy.org/doc/numpy/reference/generated/numpy.dot.html) - матричное произведение\n",
    "* [`np.linalg.inv`](https://docs.scipy.org/doc/numpy/reference/generated/numpy.linalg.inv.html) - обращение матрицы\n",
    "* [`.T`](https://docs.scipy.org/doc/numpy/reference/generated/numpy.ndarray.T.html) - транспонирование\n",
    "* [`np.eye`](https://docs.scipy.org/doc/numpy/reference/generated/numpy.eye.html) - создание единичной матрицы"
   ]
  },
  {
   "cell_type": "code",
   "execution_count": null,
   "metadata": {
    "collapsed": true,
    "slideshow": {
     "slide_type": "slide"
    }
   },
   "outputs": [],
   "source": [
    "np.random.seed(42)\n",
    "X = np.random.rand(10, 3)\n",
    "w = np.array([1, -1, 10])\n",
    "y = X.dot(w)"
   ]
  },
  {
   "cell_type": "code",
   "execution_count": null,
   "metadata": {
    "collapsed": true
   },
   "outputs": [],
   "source": []
  },
  {
   "cell_type": "markdown",
   "metadata": {},
   "source": [
    "Для тестирование сравните с [`LinearRegression`](http://scikit-learn.org/stable/modules/generated/sklearn.linear_model.LinearRegression.html) и [`Ridge`](http://scikit-learn.org/stable/modules/generated/sklearn.linear_model.Ridge.html) из scikit learn."
   ]
  },
  {
   "cell_type": "markdown",
   "metadata": {
    "slideshow": {
     "slide_type": "slide"
    }
   },
   "source": [
    "# Ссылки\n",
    "\n",
    "* [wiki](https://ru.wikipedia.org/wiki/NumPy)\n",
    "* [Официальный сайт NumPy](http://www.numpy.org)\n",
    "* [NumPy tutorial](https://docs.scipy.org/doc/numpy-dev/user/quickstart.html)\n",
    "* [Пост про numpy с datacamp вместе с интерактивными вставками](https://www.datacamp.com/community/tutorials/python-numpy-tutorial#gs.190Kw0g)\n",
    "* [NumpyTipsAndTricks](http://arogozhnikov.github.io/2015/09/29/NumpyTipsAndTricks1.html) - продвинутые примеры работы с numpy"
   ]
  },
  {
   "cell_type": "code",
   "execution_count": null,
   "metadata": {
    "collapsed": true,
    "slideshow": {
     "slide_type": "slide"
    }
   },
   "outputs": [],
   "source": []
  }
 ],
 "metadata": {
  "celltoolbar": "Slideshow",
  "kernelspec": {
   "display_name": "Python [conda root]",
   "language": "python",
   "name": "conda-root-py"
  },
  "language_info": {
   "codemirror_mode": {
    "name": "ipython",
    "version": 3
   },
   "file_extension": ".py",
   "mimetype": "text/x-python",
   "name": "python",
   "nbconvert_exporter": "python",
   "pygments_lexer": "ipython3",
   "version": "3.5.3"
  }
 },
 "nbformat": 4,
 "nbformat_minor": 2
}
