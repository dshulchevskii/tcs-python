{
 "cells": [
  {
   "cell_type": "markdown",
   "metadata": {},
   "source": [
    "# Scikit-learn\n",
    "<img src=\"http://scikit-learn.org/stable/_images/scikit-learn-logo-notext.png\" width=200 heigh=200></img>\n",
    "\n",
    "Библиотека машинного обучения для Python с открытым исходным кодом. Позволяет решать задачи классификации, регрессии, кластеризации."
   ]
  },
  {
   "cell_type": "markdown",
   "metadata": {},
   "source": [
    "# Обучение моделей\n",
    "\n",
    "В scikit-learn задачи обучения с учителем разделяются на кластеризацию и регрессию.\n",
    "Каждая модель - отдельный класс с обязательными двумя методами:\n",
    "* **`.fit(X, y)`** - обучение модели (настройка параметров, ...)\n",
    "* **`.predict(X)`** - вычисление прогноза (у классификаторов так же может присутствовать метод **`.predict_proba(X)`**)"
   ]
  },
  {
   "cell_type": "code",
   "execution_count": null,
   "metadata": {},
   "outputs": [],
   "source": [
    "from sklearn.datasets import load_digits\n",
    "from sklearn.linear_model import LogisticRegression\n",
    "\n",
    "X, y = load_digits(return_X_y=True)\n",
    "\n",
    "clf = LogisticRegression()\n",
    "clf.fit(X, y)\n",
    "clf.predict(X)"
   ]
  },
  {
   "cell_type": "markdown",
   "metadata": {},
   "source": [
    "# Выбор моделей\n",
    "\n",
    "Есть два основных подхода:\n",
    "* отложенная выборка - выборка разделяется на две части (train/test) и обучение производится на части train, а оценка качества на test.\n",
    "* кросс-валидация\n",
    "<img src=\"https://habrastorage.org/files/b1d/706/e6c/b1d706e6c9df49c297b6152878a2d03f.png\" width=400></img>"
   ]
  },
  {
   "cell_type": "markdown",
   "metadata": {},
   "source": [
    "## Отложенная выборка"
   ]
  },
  {
   "cell_type": "code",
   "execution_count": null,
   "metadata": {},
   "outputs": [],
   "source": [
    "from sklearn.model_selection import train_test_split\n",
    "from sklearn.metrics import accuracy_score\n",
    "\n",
    "X_train, X_test, y_train, y_test = train_test_split(X, y, test_size=0.33, random_state=42, shuffle=True)\n",
    "\n",
    "clf = LogisticRegression()\n",
    "clf.fit(X_train, y_train)\n",
    "\n",
    "accuracy_score(y_test, clf.predict(X_test))"
   ]
  },
  {
   "cell_type": "code",
   "execution_count": null,
   "metadata": {},
   "outputs": [],
   "source": [
    "from sklearn.neighbors import KNeighborsClassifier\n",
    "from sklearn.svm import LinearSVC\n",
    "from sklearn.ensemble import GradientBoostingClassifier\n",
    "\n",
    "classifiers = [LogisticRegression(), KNeighborsClassifier(), LinearSVC()]\n",
    "\n",
    "for clf in classifiers:\n",
    "    clf.fit(X_train, y_train)\n",
    "    score = accuracy_score(y_test, clf.predict(X_test))\n",
    "    clf_name = clf.__class__.__name__\n",
    "    print('{: <32} :{:.4f}'.format(clf_name, score))"
   ]
  },
  {
   "cell_type": "markdown",
   "metadata": {},
   "source": [
    "## Кросс-валидация"
   ]
  },
  {
   "cell_type": "code",
   "execution_count": null,
   "metadata": {},
   "outputs": [],
   "source": [
    "from sklearn.model_selection import StratifiedKFold, GridSearchCV\n",
    "import numpy as np\n",
    "\n",
    "cv = StratifiedKFold(n_splits=3, shuffle=True, random_state=42)\n",
    "\n",
    "clf = LogisticRegression()\n",
    "params={'C': np.logspace(-3, 3, 10)}\n",
    "\n",
    "gs = GridSearchCV(clf, param_grid=params, cv=cv)\n",
    "gs.fit(X_train, y_train)\n",
    "gs.best_params_"
   ]
  },
  {
   "cell_type": "code",
   "execution_count": null,
   "metadata": {},
   "outputs": [],
   "source": [
    "import pandas as pd\n",
    "%matplotlib inline\n",
    "\n",
    "pd.DataFrame(gs.cv_results_).set_index('param_C')['mean_test_score'].plot();"
   ]
  },
  {
   "cell_type": "markdown",
   "metadata": {},
   "source": [
    "# Обработка данных"
   ]
  },
  {
   "cell_type": "markdown",
   "metadata": {},
   "source": [
    "Помимо моделей обучения с учителем так же присутуствуют модели обучения буз учителя с интерфейсом:\n",
    "* **`.fit(X)`** - настройка параметров\n",
    "* **`.transform(X)`** - вычисление преобразования"
   ]
  },
  {
   "cell_type": "code",
   "execution_count": null,
   "metadata": {},
   "outputs": [],
   "source": [
    "from sklearn.preprocessing import StandardScaler\n",
    "scaller = StandardScaler()\n",
    "scaller.fit(X_train)\n",
    "scaller.transform(X_test)"
   ]
  },
  {
   "cell_type": "markdown",
   "metadata": {},
   "source": [
    "Можно установить цепочку вычислений **`Pipeline`** из преобразований, а в конце модель."
   ]
  },
  {
   "cell_type": "code",
   "execution_count": null,
   "metadata": {},
   "outputs": [],
   "source": [
    "from sklearn.pipeline import Pipeline\n",
    "from sklearn.decomposition import PCA\n",
    "\n",
    "clf = Pipeline([\n",
    "    ('scaller', StandardScaler()),\n",
    "    ('PCA', PCA(n_components=12)),\n",
    "    ('lr', LogisticRegression())\n",
    "])\n",
    "\n",
    "clf.fit(X_train, y_train)\n",
    "accuracy_score(y_test, clf.predict(X_test))"
   ]
  },
  {
   "cell_type": "markdown",
   "metadata": {},
   "source": [
    "## [sklearn_pandas](https://github.com/scikit-learn-contrib/sklearn-pandas)\n",
    "\n",
    "Для `pandas.DataFrame` бывает полезно делать различные преобразования полей.\n",
    "Например, мы хотим все поля перевести в числа. Это можно делать явно преобразованиями data frame. Так же можно воспользоваться \n",
    "оберткой `sklearn_pandas`."
   ]
  },
  {
   "cell_type": "code",
   "execution_count": null,
   "metadata": {},
   "outputs": [],
   "source": [
    "titanic_url = 'https://raw.githubusercontent.com/agconti/kaggle-titanic/master/data/train.csv'\n",
    "titanic = pd.read_csv(titanic_url, index_col='PassengerId')\n",
    "titanic.head(3)"
   ]
  },
  {
   "cell_type": "code",
   "execution_count": null,
   "metadata": {},
   "outputs": [],
   "source": [
    "try:\n",
    "    import sklearn_pandas\n",
    "except ImportError:\n",
    "    !pip install sklearn_pandas\n",
    "\n",
    "from sklearn_pandas import DataFrameMapper, CategoricalImputer\n",
    "from sklearn.preprocessing import LabelBinarizer, LabelEncoder, Imputer\n",
    "\n",
    "mapper = DataFrameMapper([\n",
    "    ('Pclass', LabelBinarizer()),\n",
    "    (['Age'], Imputer()),\n",
    "    ('Embarked', [CategoricalImputer(), LabelBinarizer()]),\n",
    "    ('Sex', LabelEncoder()),\n",
    "    (['Fare', 'SibSp', 'Parch'], None)\n",
    "])\n",
    "\n",
    "mapper.fit_transform(titanic)[1]"
   ]
  },
  {
   "cell_type": "code",
   "execution_count": null,
   "metadata": {},
   "outputs": [],
   "source": [
    "clf = Pipeline([\n",
    "    ('data_frame_mapper', mapper),\n",
    "    ('scaller', StandardScaler()),\n",
    "    ('lr', LogisticRegression())\n",
    "])\n",
    "\n",
    "titanic_train, titanic_test = train_test_split(titanic, test_size=0.33, random_state=42, shuffle=True)\n",
    "\n",
    "clf.fit(titanic_train, titanic_train['Survived'])\n",
    "titanic_pred_test = clf.predict(titanic_test)\n",
    "\n",
    "accuracy_score(titanic_test['Survived'], titanic_pred_test)"
   ]
  },
  {
   "cell_type": "markdown",
   "metadata": {},
   "source": [
    "# [Catboost](https://tech.yandex.com/catboost/doc/dg/concepts/about-docpage)\n",
    "\n",
    "Библиотека алгоритма градиентного бустинга от yandex. Отличается скоростью и качеством дефолтных параметров."
   ]
  },
  {
   "cell_type": "code",
   "execution_count": null,
   "metadata": {},
   "outputs": [],
   "source": [
    "try:\n",
    "    from catboost import CatBoostClassifier\n",
    "except ImportError:\n",
    "    !pip install catboost\n",
    "    from catboost import CatBoostClassifier\n",
    "\n",
    "features = 'Pclass Sex Age SibSp Parch Fare'.split()\n",
    "cat_features = [1]\n",
    "clf = CatBoostClassifier(iterations=10, learning_rate=0.1, logging_level='Silent')\n",
    "clf.fit(X=titanic_train[features], y=titanic_train['Survived'], cat_features=cat_features)\n",
    "\n",
    "accuracy_score(titanic_test['Survived'], clf.predict(titanic_test[features]))"
   ]
  },
  {
   "cell_type": "markdown",
   "metadata": {},
   "source": [
    "# [Keras](https://keras.io)\n",
    "Библиотека для построения нейронных сетей с интерфейсом, близким к scikit-learn."
   ]
  },
  {
   "cell_type": "code",
   "execution_count": null,
   "metadata": {},
   "outputs": [],
   "source": [
    "try:\n",
    "    import keras\n",
    "except ImportError:\n",
    "    !pip install --upgrade tensorflow\n",
    "    !pip install keras\n",
    "    import keras"
   ]
  },
  {
   "cell_type": "code",
   "execution_count": null,
   "metadata": {
    "collapsed": true
   },
   "outputs": [],
   "source": [
    "X, y = load_digits(return_X_y=True)\n",
    "\n",
    "X_train, X_test, y_train, y_test = train_test_split(X, y, test_size=0.33, random_state=42, shuffle=True)"
   ]
  },
  {
   "cell_type": "code",
   "execution_count": null,
   "metadata": {},
   "outputs": [],
   "source": [
    "from keras.models import Sequential\n",
    "from keras.layers import Dense, Activation, Dropout\n",
    "\n",
    "model = Sequential()\n",
    "model.add(Dense(32, input_dim=64))\n",
    "model.add(Activation('relu'))\n",
    "model.add(Dense(10))\n",
    "model.add(Activation('softmax'))\n",
    "\n",
    "model.compile(optimizer='rmsprop', loss='sparse_categorical_crossentropy')"
   ]
  },
  {
   "cell_type": "code",
   "execution_count": null,
   "metadata": {},
   "outputs": [],
   "source": [
    "model.fit(X_train, y_train, epochs=50, batch_size=256, verbose=0)\n",
    "\n",
    "pred_test = model.predict_classes(X_test)\n",
    "accuracy_score(y_test, pred_test)"
   ]
  },
  {
   "cell_type": "markdown",
   "metadata": {},
   "source": [
    "# Ссылки\n",
    "* [документация scikit-learn](http://scikit-learn.org/stable/documentation.html)\n",
    "* [пост с datacamp](https://www.datacamp.com/community/tutorials/machine-learning-python)\n",
    "* [статья с хабра](https://habrahabr.ru/company/mlclass/blog/247751)\n",
    "* [лекция из курса ODS в формате статьи на хабре](https://habrahabr.ru/company/ods/blog/322534)"
   ]
  }
 ],
 "metadata": {
  "kernelspec": {
   "display_name": "Python 3",
   "language": "python",
   "name": "python3"
  },
  "language_info": {
   "codemirror_mode": {
    "name": "ipython",
    "version": 3
   },
   "file_extension": ".py",
   "mimetype": "text/x-python",
   "name": "python",
   "nbconvert_exporter": "python",
   "pygments_lexer": "ipython3",
   "version": "3.6.2"
  }
 },
 "nbformat": 4,
 "nbformat_minor": 2
}
