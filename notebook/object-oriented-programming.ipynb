{
 "cells": [
  {
   "cell_type": "markdown",
   "metadata": {
    "slideshow": {
     "slide_type": "slide"
    }
   },
   "source": [
    "# Классы\n",
    "\n",
    "```python\n",
    "class имя_класса(надкласс1, надкласс2, ...):\n",
    "    # определения атрибутов и методов класса\n",
    "```\n",
    "\n",
    "С точки зрения программирования класс можно рассматривать \n",
    "как набор данных (полей, атрибутов, членов класса) и функций для работы с ними (методов)."
   ]
  },
  {
   "cell_type": "code",
   "execution_count": null,
   "metadata": {
    "collapsed": true,
    "slideshow": {
     "slide_type": "-"
    }
   },
   "outputs": [],
   "source": [
    "class MyClass:\n",
    "    a = 10\n",
    "\n",
    "    def func(self):\n",
    "        print('Hello')\n",
    "        \n",
    "myobject = MyClass()"
   ]
  },
  {
   "cell_type": "code",
   "execution_count": null,
   "metadata": {
    "collapsed": true
   },
   "outputs": [],
   "source": []
  },
  {
   "cell_type": "markdown",
   "metadata": {
    "slideshow": {
     "slide_type": "slide"
    }
   },
   "source": [
    "## Задача №1\n",
    "\n",
    "Реализуйте класс **`MoneyBox`**, для работы с виртуальной копилкой. \n",
    "\n",
    "Каждая копилка имеет ограниченную вместимость, которая выражается целым числом – количеством монет, которые можно положить в копилку. Класс должен поддерживать информацию о количестве монет в копилке, предоставлять возможность добавлять монеты в копилку и узнавать, можно ли добавить в копилку ещё какое-то количество монет, не превышая ее вместимость.\n",
    "\n",
    "При создании копилки, число монет в ней равно 0.  \n",
    "**Примечание**:  \n",
    "Гарантируется, что метод `add(self, v)` будет вызываться только если `can_add(self, v)` – `True`."
   ]
  },
  {
   "cell_type": "code",
   "execution_count": null,
   "metadata": {
    "collapsed": true,
    "slideshow": {
     "slide_type": "slide"
    }
   },
   "outputs": [],
   "source": [
    "class MoneyBox:\n",
    "    def __init__(self, capacity): # конструктор с аргументом – вместимость копилки\n",
    "        pass\n",
    "    def can_add(self, v):         # True, если можно добавить v монет, False иначе\n",
    "        pass\n",
    "    def add(self, v):             # положить v монет в копилку\n",
    "        pass"
   ]
  },
  {
   "cell_type": "code",
   "execution_count": null,
   "metadata": {
    "collapsed": true,
    "slideshow": {
     "slide_type": "-"
    }
   },
   "outputs": [],
   "source": []
  },
  {
   "cell_type": "markdown",
   "metadata": {
    "slideshow": {
     "slide_type": "slide"
    }
   },
   "source": [
    "## Задача №2\n",
    "\n",
    "Вам дается последовательность целых чисел и вам нужно ее обработать и вывести на экран сумму первой пятерки чисел из этой последовательности, затем сумму второй пятерки, и т. д.\n",
    "\n",
    "Но последовательность не дается вам сразу целиком. С течением времени к вам поступают её последовательные части. Например, сначала первые три элемента, потом следующие шесть, потом следующие два и т. д.\n",
    "\n",
    "Реализуйте класс **`Buffer`**, который будет накапливать в себе элементы последовательности и выводить сумму пятерок последовательных элементов по мере их накопления."
   ]
  },
  {
   "cell_type": "markdown",
   "metadata": {
    "ExecuteTime": {
     "end_time": "2017-07-18T20:40:19.543659Z",
     "start_time": "2017-07-18T20:40:19.531983Z"
    },
    "slideshow": {
     "slide_type": "slide"
    }
   },
   "source": [
    "Одним из требований к классу является то, что он не должен хранить в себе больше элементов, чем ему действительно необходимо, т. е. он не должен хранить элементы, которые уже вошли в пятерку, для которой была выведена сумма.\n",
    "\n",
    "Класс должен иметь следующий вид"
   ]
  },
  {
   "cell_type": "code",
   "execution_count": null,
   "metadata": {
    "collapsed": true,
    "slideshow": {
     "slide_type": "slide"
    }
   },
   "outputs": [],
   "source": [
    "class Buffer:\n",
    "    def __init__(self):         # конструктор без аргументов\n",
    "        pass\n",
    "    def add(self, *a):          # добавить следующую часть последовательности\n",
    "        pass\n",
    "    def get_current_part(self): # вернуть сохраненные в текущий момент элементы \n",
    "        pass                    # последовательности в порядке, в котором они были добавлены"
   ]
  },
  {
   "cell_type": "code",
   "execution_count": null,
   "metadata": {},
   "outputs": [],
   "source": []
  },
  {
   "cell_type": "code",
   "execution_count": null,
   "metadata": {
    "collapsed": true,
    "slideshow": {
     "slide_type": "fragment"
    }
   },
   "outputs": [],
   "source": [
    "buf = Buffer()\n",
    "buf.add(1, 2, 3)\n",
    "buf.get_current_part()                   # [1, 2, 3]\n",
    "buf.add(4, 5, 6)                         # print(15) – вывод суммы первой пятерки элементов\n",
    "buf.get_current_part()                   # [6]\n",
    "buf.add(7, 8, 9, 10)                     # print(40) – вывод суммы второй пятерки элементов\n",
    "buf.get_current_part()                   # []\n",
    "buf.add(1, 1, 1, 1, 1, 1, 1, 1, 1, 1, 1) # print(5), print(5) – вывод сумм третьей и четвертой пятерки\n",
    "buf.get_current_part()                   # [1]"
   ]
  },
  {
   "cell_type": "code",
   "execution_count": null,
   "metadata": {
    "collapsed": true
   },
   "outputs": [],
   "source": []
  },
  {
   "cell_type": "markdown",
   "metadata": {
    "slideshow": {
     "slide_type": "slide"
    }
   },
   "source": [
    "# Наследование"
   ]
  },
  {
   "cell_type": "code",
   "execution_count": null,
   "metadata": {
    "collapsed": true
   },
   "outputs": [],
   "source": [
    "class MyList(list):\n",
    "    def even_length(self):\n",
    "        return len(self) % 2 == 0"
   ]
  },
  {
   "cell_type": "code",
   "execution_count": null,
   "metadata": {
    "collapsed": true
   },
   "outputs": [],
   "source": [
    "x = MyList()"
   ]
  },
  {
   "cell_type": "markdown",
   "metadata": {
    "slideshow": {
     "slide_type": "slide"
    }
   },
   "source": [
    "# Множественное Наследование"
   ]
  },
  {
   "cell_type": "code",
   "execution_count": null,
   "metadata": {
    "collapsed": true
   },
   "outputs": [],
   "source": [
    "                     #    object\n",
    "                     #    |  | \\\n",
    "class E: pass        #   D   E  \\\n",
    "class D: pass        #    \\ /   /\n",
    "class C: pass        #     B   C\n",
    "class B(D, E): pass  #      \\ /\n",
    "class A(B, C): pass  #       A"
   ]
  },
  {
   "cell_type": "markdown",
   "metadata": {},
   "source": [
    "* Если метода нет у объекта и класса, то поиск идет у предков.\n",
    "* Все классы унаследованны от **`object`**.\n",
    "\n",
    "Полезные встроенные функции:\n",
    "* **`issubclass`** - проверка наследования классов.\n",
    "* **`mro`** - порядок разрешения методов (method resolution order) [habr](https://habrahabr.ru/post/62203/)"
   ]
  },
  {
   "cell_type": "code",
   "execution_count": null,
   "metadata": {
    "collapsed": true,
    "slideshow": {
     "slide_type": "slide"
    }
   },
   "outputs": [],
   "source": [
    "class EvenLengthMixin:\n",
    "    def even_length(self):\n",
    "        return len(self) % 2 == 0\n",
    "\n",
    "class MyList(list, EvenLengthMixin):\n",
    "    pass"
   ]
  },
  {
   "cell_type": "code",
   "execution_count": null,
   "metadata": {
    "collapsed": true,
    "slideshow": {
     "slide_type": "-"
    }
   },
   "outputs": [],
   "source": [
    "class MyDict(list, EvenLengthMixin):\n",
    "    pass"
   ]
  },
  {
   "cell_type": "code",
   "execution_count": null,
   "metadata": {},
   "outputs": [],
   "source": []
  },
  {
   "cell_type": "code",
   "execution_count": null,
   "metadata": {
    "collapsed": true,
    "slideshow": {
     "slide_type": "slide"
    }
   },
   "outputs": [],
   "source": [
    "class A: \n",
    "    def foo(self): print(\"A\")\n",
    "class B(A):\n",
    "    pass\n",
    "class C(A):\n",
    "    def foo(self): print(\"C\")\n",
    "class D:\n",
    "    def foo(self): print(\"D\")\n",
    "class E(B, C, D):\n",
    "    pass"
   ]
  },
  {
   "cell_type": "code",
   "execution_count": null,
   "metadata": {},
   "outputs": [],
   "source": [
    "E.mro()"
   ]
  },
  {
   "cell_type": "markdown",
   "metadata": {},
   "source": [
    "Какой путь поиска метода ?"
   ]
  },
  {
   "cell_type": "markdown",
   "metadata": {
    "slideshow": {
     "slide_type": "slide"
    }
   },
   "source": [
    "Если нельзя построить иерархию, то выскачит исключение."
   ]
  },
  {
   "cell_type": "code",
   "execution_count": null,
   "metadata": {
    "slideshow": {
     "slide_type": "-"
    }
   },
   "outputs": [],
   "source": [
    "class A: pass\n",
    "class B(A): pass\n",
    "class C: pass\n",
    "class D(C): pass\n",
    "class E(B, C, D): pass"
   ]
  },
  {
   "cell_type": "markdown",
   "metadata": {
    "slideshow": {
     "slide_type": "slide"
    }
   },
   "source": [
    "С помощью множественно наследования можно подмешивать новые методы."
   ]
  },
  {
   "cell_type": "code",
   "execution_count": null,
   "metadata": {
    "collapsed": true,
    "slideshow": {
     "slide_type": "-"
    }
   },
   "outputs": [],
   "source": [
    "class EvenLengthMixin:\n",
    "    def even_length(self):\n",
    "        return len(self) % 2 == 0\n",
    "\n",
    "class MyList(list, EvenLengthMixin):\n",
    "    def pop(self):\n",
    "        x = super().pop()\n",
    "        print('Last value is:', x)\n",
    "        return x"
   ]
  },
  {
   "cell_type": "code",
   "execution_count": null,
   "metadata": {},
   "outputs": [],
   "source": [
    "x = MyList([1, 3, 5])\n",
    "x.pop()"
   ]
  },
  {
   "cell_type": "markdown",
   "metadata": {
    "slideshow": {
     "slide_type": "slide"
    }
   },
   "source": [
    "##### Дополнительные метериалы:  \n",
    "* Лекции со Stepic [классы](https://stepik.org/lesson/Введение-в-классы-24461/step/1?course=Python-основы-и-применение&unit=6767), [наследование классов](https://stepik.org/lesson/Наследование-классов-24462/step/1?course=Python-основы-и-применение&unit=6768)\n",
    "* [Wikipedia](https://ru.wikipedia.org/wiki/Объектно-ориентированное_программирование_на_Python)\n",
    "* [Документация](https://docs.python.org/3.6/tutorial/classes.html)"
   ]
  },
  {
   "cell_type": "markdown",
   "metadata": {
    "slideshow": {
     "slide_type": "slide"
    }
   },
   "source": [
    "## Задача №3\n",
    "\n",
    "Реализуйте структуру данных, представляющую собой расширенную структуру стек. Необходимо поддерживать добавление элемента на вершину стека, удаление с вершины стека, и необходимо поддерживать операции сложения, вычитания, умножения и целочисленного деления.\n",
    "\n",
    "Операция сложения на стеке определяется следующим образом. Со стека снимается верхний элемент (**top1**), затем снимается следующий верхний элемент (**top2**), и затем как результат операции сложения на вершину стека кладется элемент, равный **top1** + **top2**.\n",
    "\n",
    "Аналогичным образом определяются операции вычитания (**top1** - **top2**), умножения (**top1** \\* **top2**) и целочисленного деления (**top1** // **top2**).\n",
    "\n",
    "Реализуйте эту структуру данных как класс **`ExtendedStack`**, отнаследовав его от стандартного класса **`list`**."
   ]
  },
  {
   "cell_type": "markdown",
   "metadata": {
    "slideshow": {
     "slide_type": "slide"
    }
   },
   "source": [
    "Требуемая структура класса:"
   ]
  },
  {
   "cell_type": "code",
   "execution_count": null,
   "metadata": {
    "collapsed": true,
    "slideshow": {
     "slide_type": "-"
    }
   },
   "outputs": [],
   "source": [
    "class ExtendedStack(list):\n",
    "    def sum(self): # операция сложения\n",
    "        pass\n",
    "    def sub(self): # операция вычитания\n",
    "        pass\n",
    "    def mul(self): # операция умножения\n",
    "        pass\n",
    "    def div(self): # операция целочисленного деления\n",
    "        pass"
   ]
  },
  {
   "cell_type": "markdown",
   "metadata": {},
   "source": [
    "##### Примечание\n",
    "Для добавления элемента на стек используется метод **`append`**, а для снятия со стека – метод **`pop`**.  \n",
    "Гарантируется, что операции будут совершаться только когда в стеке есть хотя бы два элемента."
   ]
  },
  {
   "cell_type": "markdown",
   "metadata": {
    "slideshow": {
     "slide_type": "slide"
    }
   },
   "source": [
    "##  Задача №4\n",
    "\n",
    "Одно из применений множественного наследование – расширение функциональности класса каким-то заранее определенным способом. Например, если нам понадобится логировать какую-то информацию при обращении к методам класса.\n",
    "\n",
    "Рассмотрим класс **`Loggable`**:"
   ]
  },
  {
   "cell_type": "code",
   "execution_count": null,
   "metadata": {
    "collapsed": true
   },
   "outputs": [],
   "source": [
    "import time\n",
    "\n",
    "class Loggable:\n",
    "    def log(self, msg):\n",
    "        print(str(time.ctime()) + \": \" + str(msg))"
   ]
  },
  {
   "cell_type": "markdown",
   "metadata": {},
   "source": [
    "У него есть ровно один метод **`log`**, который позволяет выводить в лог (в данном случае в stdout) какое-то сообщение, добавляя при этом текущее время.  \n",
    "Реализуйте класс **`LoggableList`**, отнаследовав его от классов **`list`** и **`Loggable`** таким образом, чтобы при добавлении элемента в список посредством метода **`append`** в лог отправлялось сообщение, состоящее из только что добавленного элемента."
   ]
  },
  {
   "cell_type": "markdown",
   "metadata": {
    "slideshow": {
     "slide_type": "slide"
    }
   },
   "source": [
    "# Задача 5\n",
    "\n",
    "Задача линейной регресси - поиск линейной связи между признаком $x$ и целевой переменной $y$.\n",
    "$$y_t=a+bx_t$$\n",
    "\n",
    "Коэфиициенты вычисляются по формулам:\n",
    "$$\n",
    "\\begin{cases}\n",
    "\\hat {b}=\\frac {\\mathop{\\textrm{Cov}}(x,y)}{\\mathop{\\textrm{Var}}(x)}=\\frac {\\overline{xy}-\\bar{x}\\bar{y}}{\\overline{x^2}-{\\overline{x}}^2},\\\\\n",
    "\\hat {a}=\\bar {y}-b \\bar {x}.\n",
    "\\end{cases}\n",
    "$$\n",
    "\n",
    "https://ru.wikipedia.org/wiki/Метод_наименьших_квадратов"
   ]
  },
  {
   "cell_type": "markdown",
   "metadata": {
    "slideshow": {
     "slide_type": "slide"
    }
   },
   "source": [
    "Реализуйте класс - линейную регрессию с интерфейсом:\n",
    "* **`fit`** - принимает на вход лист **`X`** со значениям признака и лист **`Y`** со значениями целевой переменной. При вызове метода вычисляются и запоминаются коэффициенты.\n",
    "* **`predict`** - принимает на вход только лист значений признаков **`X`**, а на выходе дает прогноз, используя запомненную формулу."
   ]
  },
  {
   "cell_type": "code",
   "execution_count": null,
   "metadata": {
    "collapsed": true
   },
   "outputs": [],
   "source": [
    "class LinearRegression:\n",
    "    \n",
    "    def fit(self, X, Y):\n",
    "        pass\n",
    "\n",
    "    def predict(self, X):\n",
    "        pass"
   ]
  },
  {
   "cell_type": "code",
   "execution_count": 2,
   "metadata": {},
   "outputs": [
    {
     "data": {
      "text/plain": [
       "[9.0, 11.0, 13.0]"
      ]
     },
     "execution_count": 2,
     "metadata": {},
     "output_type": "execute_result"
    }
   ],
   "source": [
    "X = [1, 2, 3]\n",
    "Y = [3, 5, 7]\n",
    "X_new = [4, 5, 6]\n",
    "reg = LinearRegression()\n",
    "reg.fit(X, Y)\n",
    "reg.predict(X_new)"
   ]
  },
  {
   "cell_type": "code",
   "execution_count": null,
   "metadata": {
    "collapsed": true,
    "slideshow": {
     "slide_type": "slide"
    }
   },
   "outputs": [],
   "source": []
  }
 ],
 "metadata": {
  "celltoolbar": "Slideshow",
  "kernelspec": {
   "display_name": "Python [conda root]",
   "language": "python",
   "name": "conda-root-py"
  },
  "language_info": {
   "codemirror_mode": {
    "name": "ipython",
    "version": 3
   },
   "file_extension": ".py",
   "mimetype": "text/x-python",
   "name": "python",
   "nbconvert_exporter": "python",
   "pygments_lexer": "ipython3",
   "version": "3.5.3"
  }
 },
 "nbformat": 4,
 "nbformat_minor": 2
}
