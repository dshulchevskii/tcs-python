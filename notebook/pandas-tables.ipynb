{
 "cells": [
  {
   "cell_type": "markdown",
   "metadata": {},
   "source": [
    "# Работа с табличными данными\n",
    "* [Pandas](#Pandas)\n",
    "* [Data Frame. Iris](#Data-Frame.-Iris)\n",
    "* [Titanic. Задачи](#Titanic.-Задачи)\n",
    "* [Дополнительные материалы](#Дополнительные-материалы)"
   ]
  },
  {
   "cell_type": "markdown",
   "metadata": {},
   "source": [
    "# Pandas\n",
    "\n",
    "Основными структурами данных в Pandas являются классы:\n",
    "* **`Series`** - одномерный индексированный массив данных некоторого фиксированного типа.\n",
    "* **`DataFrame`** - двухмерная структура данных, представляющая собой таблицу, каждый столбец которой содержит данные одного типа. Можно представлять её как словарь объектов типа Series.\n",
    "\n",
    "Структура DataFrame отлично подходит для представления реальных данных: строки соответствуют признаковым описаниям отдельных объектов, а столбцы соответствуют признакам."
   ]
  },
  {
   "cell_type": "code",
   "execution_count": null,
   "metadata": {
    "collapsed": true
   },
   "outputs": [],
   "source": [
    "%matplotlib inline\n",
    "\n",
    "import pandas as pd\n",
    "import numpy as np"
   ]
  },
  {
   "cell_type": "markdown",
   "metadata": {},
   "source": [
    "# Data Frame. Iris"
   ]
  },
  {
   "cell_type": "markdown",
   "metadata": {},
   "source": [
    "**`read_csv`** - функция, позволяющая создавать `DataFrame` из ссылки/url на csv файл. Имеет множество полезных аргументов для парсинга."
   ]
  },
  {
   "cell_type": "code",
   "execution_count": null,
   "metadata": {},
   "outputs": [],
   "source": [
    "url_data = 'https://raw.githubusercontent.com/uiuc-cse/data-fa14/gh-pages/data/iris.csv'\n",
    "iris = pd.read_csv(url_data)\n",
    "\n",
    "# data_path = '../data/iris.csv'\n",
    "# iris.to_csv(data_path, index=False)\n",
    "# iris = pd.read_csv(data_path)"
   ]
  },
  {
   "cell_type": "markdown",
   "metadata": {},
   "source": [
    "**`head`** - выводит первые (по умолчанию 5) строк таблицы. Метод полезен для наглядного отображения формата данных."
   ]
  },
  {
   "cell_type": "code",
   "execution_count": null,
   "metadata": {},
   "outputs": [],
   "source": [
    "iris.head()"
   ]
  },
  {
   "cell_type": "markdown",
   "metadata": {},
   "source": [
    "**`shape`** - размерность таблицы как матрицы. Аналогичен атрибуту `numpy.array`."
   ]
  },
  {
   "cell_type": "code",
   "execution_count": null,
   "metadata": {},
   "outputs": [],
   "source": [
    "iris.shape"
   ]
  },
  {
   "cell_type": "markdown",
   "metadata": {},
   "source": [
    "**`columns`** - список названий столбцов."
   ]
  },
  {
   "cell_type": "code",
   "execution_count": null,
   "metadata": {},
   "outputs": [],
   "source": [
    "iris.columns"
   ]
  },
  {
   "cell_type": "markdown",
   "metadata": {},
   "source": [
    "**`info`** - агрегированная информация о таблице. Включает так же информацию о типах столбцов."
   ]
  },
  {
   "cell_type": "code",
   "execution_count": null,
   "metadata": {},
   "outputs": [],
   "source": [
    "iris.info()"
   ]
  },
  {
   "cell_type": "markdown",
   "metadata": {},
   "source": [
    "**`describe`** - статистики по столбцам таблицы. Полезно для быстрого анализа. По умолчанию использует только числовые столбцы."
   ]
  },
  {
   "cell_type": "code",
   "execution_count": null,
   "metadata": {},
   "outputs": [],
   "source": [
    "iris.describe()"
   ]
  },
  {
   "cell_type": "markdown",
   "metadata": {},
   "source": [
    "Для отображения статистик по столбцам с другими типами, нужно указать отдельно. Например, можно указать тип `object`, и статистику будут другими."
   ]
  },
  {
   "cell_type": "code",
   "execution_count": null,
   "metadata": {},
   "outputs": [],
   "source": [
    "iris.describe(include=['object'])"
   ]
  },
  {
   "cell_type": "markdown",
   "metadata": {},
   "source": [
    "**`value_counts`** - позволяет посчитать количество уникальных значений у `Series`. Важно, что по умолчанию не включаются пустые значения."
   ]
  },
  {
   "cell_type": "code",
   "execution_count": null,
   "metadata": {},
   "outputs": [],
   "source": [
    "iris['species'].value_counts()"
   ]
  },
  {
   "cell_type": "code",
   "execution_count": null,
   "metadata": {},
   "outputs": [],
   "source": [
    "iris['species'].value_counts(normalize=True)"
   ]
  },
  {
   "cell_type": "markdown",
   "metadata": {},
   "source": [
    "**`sort_values`** - метод сортировки таблицы по значениям столбцов."
   ]
  },
  {
   "cell_type": "code",
   "execution_count": null,
   "metadata": {},
   "outputs": [],
   "source": [
    "iris.sort_values('sepal_length').head()"
   ]
  },
  {
   "cell_type": "markdown",
   "metadata": {},
   "source": [
    "Индексацию можно осуществлять множеством способов.  \n",
    "Обращаться к столбцу по названию, как в словаре."
   ]
  },
  {
   "cell_type": "code",
   "execution_count": null,
   "metadata": {},
   "outputs": [],
   "source": [
    "iris['sepal_length'].mean()"
   ]
  },
  {
   "cell_type": "markdown",
   "metadata": {},
   "source": [
    "Часто используется логическая индексация, как у `numpy`, когда необходимо выбрать только часть строчек."
   ]
  },
  {
   "cell_type": "code",
   "execution_count": null,
   "metadata": {},
   "outputs": [],
   "source": [
    "iris[iris['species'] == 'setosa'].mean()"
   ]
  },
  {
   "cell_type": "markdown",
   "metadata": {},
   "source": [
    "Также есть методы индексация:\n",
    "* **`loc`** - по индексу\n",
    "* **`iloc`** - по позиции"
   ]
  },
  {
   "cell_type": "code",
   "execution_count": null,
   "metadata": {},
   "outputs": [],
   "source": [
    "iris.loc[1:3]"
   ]
  },
  {
   "cell_type": "code",
   "execution_count": null,
   "metadata": {},
   "outputs": [],
   "source": [
    "iris.iloc[1:3] # позиционные слайсятся как листы (конец не включен)"
   ]
  },
  {
   "cell_type": "code",
   "execution_count": null,
   "metadata": {},
   "outputs": [],
   "source": [
    "iris.loc[1:3, ['sepal_length', 'sepal_width']]"
   ]
  },
  {
   "cell_type": "markdown",
   "metadata": {},
   "source": [
    "Создавать новые столбцы можно из старых, аналогично созданию нового ключа в словаре."
   ]
  },
  {
   "cell_type": "code",
   "execution_count": null,
   "metadata": {},
   "outputs": [],
   "source": [
    "iris['sepal_rate'] = iris['sepal_width'] / iris['sepal_length']\n",
    "iris.head(2)"
   ]
  },
  {
   "cell_type": "markdown",
   "metadata": {},
   "source": [
    "Так же можно создавать новые столбцы, используя метод **`assign`**."
   ]
  },
  {
   "cell_type": "code",
   "execution_count": null,
   "metadata": {},
   "outputs": [],
   "source": [
    "iris.assign(petal_rate=lambda df: df['petal_width'] / df['petal_length']).head(2)"
   ]
  },
  {
   "cell_type": "code",
   "execution_count": null,
   "metadata": {},
   "outputs": [],
   "source": [
    "iris.head(2)"
   ]
  },
  {
   "cell_type": "markdown",
   "metadata": {},
   "source": [
    "Вторым способом сама таблица не меняется, что позволяет использовать функциональный подход к анализу данных.  \n",
    "Например, нарисуем  scatter в координатах x=petal_width/petal_length, y=sepal_width/sepal_length только для species = setosa.  \n",
    "[Статья про использование chaining](https://tomaugspurger.github.io/method-chaining.html)  "
   ]
  },
  {
   "cell_type": "code",
   "execution_count": null,
   "metadata": {},
   "outputs": [],
   "source": [
    "(iris.query('species == \"setosa\"')\n",
    "     .assign(petal_rate=lambda df: df['petal_width'] / df['petal_length'],\n",
    "             sepal_rate=lambda df: df['sepal_width'] / df['sepal_length'])\n",
    "     .plot(x='petal_rate', y='sepal_rate', kind='scatter'));"
   ]
  },
  {
   "cell_type": "markdown",
   "metadata": {},
   "source": [
    "# Titanic. Задачи\n",
    "\n",
    "* **`survival`** — поле в котором указано спасся человек (1) или нет (0)\n",
    "* **`pclass`** — содержит социально-экономический статус:\n",
    "  1. высокий\n",
    "  2. средний\n",
    "  3. низкий\n",
    "* **`name`** — имя пассажира\n",
    "* **`sex`** — пол пассажира\n",
    "* **`age`** — возраст\n",
    "* **`sibsp`** — содержит информацию о количестве родственников 2-го порядка (муж, жена, братья, сетры)\n",
    "* **`parch`** — содержит информацию о количестве родственников на борту 1-го порядка (мать, отец, дети)\n",
    "* **`ticket`** — номер билета\n",
    "* **`fare`** — цена билета\n",
    "* **`cabin`** — каюта\n",
    "* **`embarked`** — порт посадки\n",
    "  C — Cherbourg\n",
    "  Q — Queenstown\n",
    "  S — Southampton\n",
    "  \n",
    "[Статья на хабре про titanic](https://habrahabr.ru/post/202090/)"
   ]
  },
  {
   "cell_type": "code",
   "execution_count": null,
   "metadata": {},
   "outputs": [],
   "source": [
    "# titanic_url = 'https://raw.githubusercontent.com/pcsanwald/kaggle-titanic/master/train.csv'\n",
    "\n",
    "# titanic = pd.read_csv(titanic_url)\n",
    "\n",
    "titanic_path = '../data/titanic.csv'\n",
    "# titanic.to_csv(titanic_path, index=False)\n",
    "titanic = pd.read_csv(titanic_path)"
   ]
  },
  {
   "cell_type": "code",
   "execution_count": null,
   "metadata": {},
   "outputs": [],
   "source": [
    "titanic.head()"
   ]
  },
  {
   "cell_type": "markdown",
   "metadata": {},
   "source": [
    "Опишите данный датасет: какое расределение женщин/мужчин в нем?"
   ]
  },
  {
   "cell_type": "code",
   "execution_count": null,
   "metadata": {},
   "outputs": [],
   "source": []
  },
  {
   "cell_type": "markdown",
   "metadata": {},
   "source": [
    "Сколько пассажиров ехало в каждом классе?"
   ]
  },
  {
   "cell_type": "code",
   "execution_count": null,
   "metadata": {},
   "outputs": [],
   "source": []
  },
  {
   "cell_type": "markdown",
   "metadata": {},
   "source": [
    "Какой средний/минимальный/максимальный возраст пассажиров?"
   ]
  },
  {
   "cell_type": "code",
   "execution_count": null,
   "metadata": {},
   "outputs": [],
   "source": []
  },
  {
   "cell_type": "markdown",
   "metadata": {},
   "source": [
    "Сколько было выживших пассажиров?"
   ]
  },
  {
   "cell_type": "code",
   "execution_count": null,
   "metadata": {},
   "outputs": [],
   "source": []
  },
  {
   "cell_type": "markdown",
   "metadata": {},
   "source": [
    "Верно ли, что женщины выживали чаще мужчин?"
   ]
  },
  {
   "cell_type": "code",
   "execution_count": null,
   "metadata": {
    "collapsed": true
   },
   "outputs": [],
   "source": []
  },
  {
   "cell_type": "markdown",
   "metadata": {},
   "source": [
    "Какие пассажиры выживали чаще: с более дешевыми или дорогими билетами?"
   ]
  },
  {
   "cell_type": "code",
   "execution_count": null,
   "metadata": {
    "collapsed": true
   },
   "outputs": [],
   "source": []
  },
  {
   "cell_type": "markdown",
   "metadata": {},
   "source": [
    "Верно ли, что чаще выживали более молодые пассажиры?"
   ]
  },
  {
   "cell_type": "code",
   "execution_count": null,
   "metadata": {
    "collapsed": true
   },
   "outputs": [],
   "source": []
  },
  {
   "cell_type": "markdown",
   "metadata": {},
   "source": [
    "Сгруппируйте записи по классам пассажиров, в каждой группе посчитайте средний возраст. Верно ли, что во всех классах эта величина примерно одинакова?  \n",
    "**[`pd.qcut`](https://pandas.pydata.org/pandas-docs/stable/generated/pandas.qcut.html)** - разбивка на бакеты"
   ]
  },
  {
   "cell_type": "code",
   "execution_count": null,
   "metadata": {},
   "outputs": [],
   "source": []
  },
  {
   "cell_type": "markdown",
   "metadata": {},
   "source": [
    "Найдите все признаки, для которых есть пропуски в данных."
   ]
  },
  {
   "cell_type": "code",
   "execution_count": null,
   "metadata": {
    "collapsed": true
   },
   "outputs": [],
   "source": []
  },
  {
   "cell_type": "markdown",
   "metadata": {},
   "source": [
    "# Дополнительные материалы\n",
    "\n",
    "* [Официальная документация](http://pandas.pydata.org/pandas-docs/stable/index.html)\n",
    "* [10 Minutes to pandas](http://pandas.pydata.org/pandas-docs/stable/10min.html)\n",
    "* [Статья на хабре про pandas](https://habrahabr.ru/company/ods/blog/322626/)\n",
    "* [Подборка упражнений](https://github.com/guipsamora/pandas_exercises/)"
   ]
  },
  {
   "cell_type": "code",
   "execution_count": null,
   "metadata": {
    "collapsed": true
   },
   "outputs": [],
   "source": []
  }
 ],
 "metadata": {
  "kernelspec": {
   "display_name": "Python [conda root]",
   "language": "python",
   "name": "conda-root-py"
  },
  "language_info": {
   "codemirror_mode": {
    "name": "ipython",
    "version": 3
   },
   "file_extension": ".py",
   "mimetype": "text/x-python",
   "name": "python",
   "nbconvert_exporter": "python",
   "pygments_lexer": "ipython3",
   "version": "3.5.3"
  }
 },
 "nbformat": 4,
 "nbformat_minor": 2
}
