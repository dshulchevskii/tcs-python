{
 "cells": [
  {
   "cell_type": "markdown",
   "metadata": {
    "collapsed": true
   },
   "source": [
    "# Визуализация данных\n",
    "\n",
    "* [Matplotlib](#Matplotlib)\n",
    "* [Pandas' buildin plotting](#Pandas'-buildin-plotting)\n",
    "* [Seaborn](#Seaborn)\n",
    "* [Pandas Styling](#Pandas-Styling)\n",
    "* [Bokeh](#Bokeh)\n",
    "* [Holoviews](#Holoviews)\n",
    "* [Дополнительные материалы](#Дополнительные-материалы)"
   ]
  },
  {
   "cell_type": "code",
   "execution_count": null,
   "metadata": {},
   "outputs": [],
   "source": [
    "import pandas as pd\n",
    "import numpy as np"
   ]
  },
  {
   "cell_type": "markdown",
   "metadata": {},
   "source": [
    "Загрузим выборку бриллиантов [diamonds](https://www.kaggle.com/shivam2503/diamonds).\n",
    "Выборка содержит 54к различных бриллианта с характеристиками (цена, вес, ...)."
   ]
  },
  {
   "cell_type": "code",
   "execution_count": null,
   "metadata": {},
   "outputs": [],
   "source": [
    "diamonds_url = 'http://vincentarelbundock.github.io/Rdatasets/csv/ggplot2/diamonds.csv'\n",
    "\n",
    "cut_order = ['Fair', 'Good', 'Very Good', 'Premium', 'Ideal']\n",
    "clarity_order = ['I1', 'SI2', 'SI1', 'VS2', 'VS1', 'VVS2', 'VVS1', 'IF']\n",
    "color_order = ['J', 'I', 'H', 'G', 'F', 'E', 'D']\n",
    "\n",
    "df = pd.read_csv(diamonds_url, usecols='carat cut color clarity depth table price x y z'.split())\n",
    "\n",
    "for column, order in [('cut', cut_order),\n",
    "                      ('clarity', clarity_order),\n",
    "                      ('color', color_order)]:\n",
    "    df[column] = df[column].astype('category').cat.set_categories(order, ordered=True)"
   ]
  },
  {
   "cell_type": "code",
   "execution_count": null,
   "metadata": {},
   "outputs": [],
   "source": [
    "df.head()"
   ]
  },
  {
   "cell_type": "markdown",
   "metadata": {
    "collapsed": true
   },
   "source": [
    "# [Matplotlib](https://matplotlib.org)\n",
    "\n",
    "Базовая библиотека по визуализации в python. На её основе сделано много других библиотек, таких как seaborn, pandas'овский `.plot()`, holoviews. Предоставляет обширные возможности, но иногда за счет размера кода. Основное удобное API - [`pyplot()`](http://matplotlib.org/api/pyplot_api.html)."
   ]
  },
  {
   "cell_type": "code",
   "execution_count": null,
   "metadata": {},
   "outputs": [],
   "source": [
    "import matplotlib.pyplot as plt\n",
    "\n",
    "%matplotlib inline"
   ]
  },
  {
   "cell_type": "markdown",
   "metadata": {},
   "source": [
    "У объекта **`ax`** (axes) - оси координат, вызываем отдельные методы (рисование диаграммы рассеивания, подпись оси, ...).  "
   ]
  },
  {
   "cell_type": "code",
   "execution_count": null,
   "metadata": {},
   "outputs": [],
   "source": [
    "fig, ax = plt.subplots()\n",
    "\n",
    "ax.scatter(x='carat', y='depth', data=df, c='k', alpha=.15)\n",
    "ax.set_xlabel('carat')\n",
    "ax.set_ylabel('depth');"
   ]
  },
  {
   "cell_type": "markdown",
   "metadata": {},
   "source": [
    "Есть интерфейс создания графиков напрямую через вызовы методов pyplot - это API ближе к Matlab."
   ]
  },
  {
   "cell_type": "code",
   "execution_count": null,
   "metadata": {},
   "outputs": [],
   "source": [
    "x = np.arange(100)\n",
    "\n",
    "plt.plot(x, np.power(x, 2))\n",
    "plt.xlabel('X')\n",
    "plt.ylabel('$X^2$')\n",
    "plt.grid(True);"
   ]
  },
  {
   "cell_type": "markdown",
   "metadata": {},
   "source": [
    "# [Pandas' buildin-plotting](https://pandas.pydata.org/pandas-docs/stable/visualization.html)\n",
    "\n",
    "Встроенный метод **`.plot()`** у объектов **`DataFrame`** и **`Series`** позволяет рисовать большое количество полезных статистических графиков (line, scatter, bar-chart, ...). Очень удобен для исследования \"на лету\"."
   ]
  },
  {
   "cell_type": "code",
   "execution_count": null,
   "metadata": {},
   "outputs": [],
   "source": [
    "df.plot.scatter(x='carat', y='depth', c='k', alpha=.15);"
   ]
  },
  {
   "cell_type": "code",
   "execution_count": null,
   "metadata": {},
   "outputs": [],
   "source": [
    "fig, (ax1, ax2) = plt.subplots(nrows=1, ncols=2, figsize=(10, 5))\n",
    "\n",
    "df.plot(x='carat', y='depth', kind='scatter', c='k', alpha=.15, ax=ax1)\n",
    "df.plot(x='carat', y='price', kind='scatter', c='k', alpha=.15, ax=ax2);"
   ]
  },
  {
   "cell_type": "markdown",
   "metadata": {},
   "source": [
    "# [Seaborn](http://seaborn.pydata.org)\n",
    "\n",
    "Высокоуровневое API для посторения статистических графиков на основе matplotlib."
   ]
  },
  {
   "cell_type": "code",
   "execution_count": null,
   "metadata": {},
   "outputs": [],
   "source": [
    "import seaborn as sns"
   ]
  },
  {
   "cell_type": "code",
   "execution_count": null,
   "metadata": {},
   "outputs": [],
   "source": [
    "sns.countplot(x='cut', data=df);"
   ]
  },
  {
   "cell_type": "code",
   "execution_count": null,
   "metadata": {},
   "outputs": [],
   "source": [
    "sns.barplot(x='cut', y='price', data=df);"
   ]
  },
  {
   "cell_type": "markdown",
   "metadata": {},
   "source": [
    "Есть очень удобная диаграмма для сравнения двух параметров."
   ]
  },
  {
   "cell_type": "code",
   "execution_count": null,
   "metadata": {},
   "outputs": [],
   "source": [
    "sns.jointplot(x='carat', y='price', data=df, size=6, alpha=.25,\n",
    "              color='k', marker='.');"
   ]
  },
  {
   "cell_type": "markdown",
   "metadata": {},
   "source": [
    "Есть очень мощный инструмент, рисующий диаграммы рассеивания сразу для всех пар признаков."
   ]
  },
  {
   "cell_type": "code",
   "execution_count": null,
   "metadata": {},
   "outputs": [],
   "source": [
    "(df.loc[:, ['carat', 'price', 'x', 'cut']]\n",
    "   .pipe(sns.pairplot, hue='cut'));"
   ]
  },
  {
   "cell_type": "markdown",
   "metadata": {},
   "source": [
    "Большинсово функций в seaborn возвращают один график (одну систему координат Axes), а вот pairplot - целую сетку таких графиков."
   ]
  },
  {
   "cell_type": "code",
   "execution_count": null,
   "metadata": {},
   "outputs": [],
   "source": [
    "def core(df, alpha=.05):\n",
    "    \"\"\"Take main part of dataset\"\"\"\n",
    "    mask = (df > df.quantile(alpha)).all(1) & (df < df.quantile(1 - alpha)).all(1)\n",
    "    return df[mask]"
   ]
  },
  {
   "cell_type": "code",
   "execution_count": null,
   "metadata": {},
   "outputs": [],
   "source": [
    "cmap = sns.cubehelix_palette(as_cmap=True, dark=0, light=1, reverse=True)\n",
    "\n",
    "(df.loc[:, ['carat', 'price', 'x']]\n",
    "   .pipe(core)\n",
    "   .pipe(sns.PairGrid)\n",
    "   .map_upper(plt.scatter, marker='.', alpha=.25)\n",
    "   .map_diag(sns.kdeplot)\n",
    "   .map_lower(plt.hexbin, cmap=cmap, gridsize=20)\n",
    ");"
   ]
  },
  {
   "cell_type": "markdown",
   "metadata": {},
   "source": [
    "# [Pandas Styling](http://pandas.pydata.org/pandas-docs/stable/style.html)"
   ]
  },
  {
   "cell_type": "code",
   "execution_count": null,
   "metadata": {},
   "outputs": [],
   "source": [
    "(df.sample(5)\n",
    "   .style\n",
    "   .highlight_max(subset=['price'])\n",
    "   .background_gradient(cmap='Greens', subset=['depth'])\n",
    "   .format('{:.3f}', subset=['x', 'y', 'z']))"
   ]
  },
  {
   "cell_type": "markdown",
   "metadata": {},
   "source": [
    "# [Bokeh](https://bokeh.pydata.org/en/latest/)\n",
    "\n",
    "Ориентированна на создание web графики, включающую интерактивность.\n",
    "Интерактивность в некоторых ситуациях очень важна, например, для рисования карт.\n",
    "Выборка аэропортов: https://openflights.org/data.html."
   ]
  },
  {
   "cell_type": "code",
   "execution_count": null,
   "metadata": {},
   "outputs": [],
   "source": [
    "import bokeh.plotting as bp\n",
    "from bokeh.tile_providers import STAMEN_TONER\n",
    "from bokeh.models import HoverTool\n",
    "import math\n",
    "\n",
    "bp.output_notebook()"
   ]
  },
  {
   "cell_type": "code",
   "execution_count": null,
   "metadata": {},
   "outputs": [],
   "source": [
    "# Скачиваем координаты аэропортов\n",
    "airports = pd.read_csv('https://raw.githubusercontent.com/jpatokal/openflights/master/data/airports.dat',\n",
    "                       names=['Airport ID', 'Name', 'City', 'Country', 'IATA', 'ICAO',\n",
    "                              'Latitude', 'Longitude', 'Altitude', 'Timezone', 'DST',\n",
    "                              'Tz database time zone', 'Type', 'Source'],\n",
    "                       index_col='Airport ID', na_values=[r'\\N'])\n",
    "airports.drop(2033, inplace=True) # not valid coordinate\n",
    "\n",
    "def mercator(lon, lat):\n",
    "    x = lon * 20037508.34 / 180\n",
    "    y = np.log(np.tan((90 + lat) * np.pi / 360)) / (np.pi / 180)\n",
    "    y = y * 20037508.34 / 180\n",
    "    y = y - 1\n",
    "    return x, y\n",
    "\n",
    "airports['x'], airports['y'] = mercator(airports['Longitude'], airports['Latitude'])\n",
    "\n",
    "airports.tail(2)"
   ]
  },
  {
   "cell_type": "code",
   "execution_count": null,
   "metadata": {},
   "outputs": [],
   "source": [
    "bound = 20000000 # meters\n",
    "\n",
    "source = bp.ColumnDataSource(airports.sample(1000).to_dict('list'))\n",
    "\n",
    "fig = bp.figure(tools='pan, wheel_zoom, reset', x_range=(-bound, bound), y_range=(-bound, bound))\n",
    "\n",
    "points = fig.circle(x='x', y='y', source=source, color='blue', alpha=0.3,\n",
    "                    radius=10000, radius_units='data')\n",
    "\n",
    "fig.circle(x='x', y='y', source=source, color='blue', \n",
    "           alpha=0.1, radius=5, radius_units='screen')\n",
    "\n",
    "fig.add_tools(HoverTool(renderers=[points],\n",
    "                        tooltips=[('Name','@Name'),\n",
    "                                  ('City','@City')]))\n",
    "\n",
    "fig.axis.visible = False\n",
    "fig.add_tile(STAMEN_TONER)\n",
    "\n",
    "bp.show(fig)"
   ]
  },
  {
   "cell_type": "markdown",
   "metadata": {},
   "source": [
    "# [Holoviews](http://holoviews.org)\n",
    "\n",
    "Высокоуровневое API для создания статистических графиков. Ориентированна на выразительность."
   ]
  },
  {
   "cell_type": "code",
   "execution_count": null,
   "metadata": {},
   "outputs": [],
   "source": [
    "import holoviews as hv\n",
    "hv.extension('bokeh')"
   ]
  },
  {
   "cell_type": "markdown",
   "metadata": {},
   "source": [
    "Есть возможность использовать встроенные высокоуровневые функции."
   ]
  },
  {
   "cell_type": "code",
   "execution_count": null,
   "metadata": {},
   "outputs": [],
   "source": [
    "dimonds_group = (df.assign(dimonds_count=1)\n",
    "                   .groupby('cut', as_index=False)\n",
    "                   .agg({'dimonds_count': 'sum', 'price': 'mean'}))\n",
    "\n",
    "dimonds_group"
   ]
  },
  {
   "cell_type": "code",
   "execution_count": null,
   "metadata": {},
   "outputs": [],
   "source": [
    "price = hv.Bars(dimonds_group, kdims=['cut'], vdims=['price'])\n",
    "count = hv.Bars(dimonds_group, kdims=['cut'], vdims=['dimonds_count'])"
   ]
  },
  {
   "cell_type": "code",
   "execution_count": null,
   "metadata": {},
   "outputs": [],
   "source": [
    "price + count"
   ]
  },
  {
   "cell_type": "markdown",
   "metadata": {},
   "source": [
    "Вызов print() показывает структуру графика (название диаграммы и названия осей)."
   ]
  },
  {
   "cell_type": "code",
   "execution_count": null,
   "metadata": {},
   "outputs": [],
   "source": [
    "print(price)"
   ]
  },
  {
   "cell_type": "markdown",
   "metadata": {},
   "source": [
    "Визуальные настройки делаются через magic `%%opts`"
   ]
  },
  {
   "cell_type": "code",
   "execution_count": null,
   "metadata": {},
   "outputs": [],
   "source": [
    "%%opts Bars [height=200, width=400]\n",
    "price"
   ]
  },
  {
   "cell_type": "markdown",
   "metadata": {},
   "source": [
    "Есть удобная возможность создавать диаграммы с виджетами"
   ]
  },
  {
   "cell_type": "code",
   "execution_count": null,
   "metadata": {},
   "outputs": [],
   "source": [
    "df_grouped = (df.groupby(['cut', 'color'])\n",
    "                ['price'].mean().reset_index())\n",
    "df_grouped.sample(3)"
   ]
  },
  {
   "cell_type": "markdown",
   "metadata": {},
   "source": [
    "Сначала конвертим в объект Dataset, прописывая столбцы-ключи, и стобцы-значения."
   ]
  },
  {
   "cell_type": "code",
   "execution_count": null,
   "metadata": {},
   "outputs": [],
   "source": [
    "data = hv.Dataset(df_grouped, kdims=['cut', 'color'], vdims=['price'])\n",
    "data"
   ]
  },
  {
   "cell_type": "markdown",
   "metadata": {},
   "source": [
    "Тпереь при рисовании диаграмм, те ключи, которые не указаны, станут виджетом."
   ]
  },
  {
   "cell_type": "code",
   "execution_count": null,
   "metadata": {},
   "outputs": [],
   "source": [
    "data.to(hv.Bars, kdims=['cut'], vdims=['price'])"
   ]
  },
  {
   "cell_type": "code",
   "execution_count": null,
   "metadata": {},
   "outputs": [],
   "source": [
    "diagrams = {i: hv.Image(np.random.randn(10, 10)) for i in range(10)}\n",
    "\n",
    "hv.HoloMap(diagrams)"
   ]
  },
  {
   "cell_type": "code",
   "execution_count": null,
   "metadata": {},
   "outputs": [],
   "source": [
    "import bokeh.sampledata\n",
    "bokeh.sampledata.download()"
   ]
  },
  {
   "cell_type": "code",
   "execution_count": null,
   "metadata": {},
   "outputs": [],
   "source": [
    "import sqlite3 as sql\n",
    "from bokeh.sampledata.movies_data import movie_path\n",
    "\n",
    "\n",
    "query = '''\n",
    "SELECT\n",
    "    imdbID,\n",
    "    Title,\n",
    "    Year,\n",
    "    imdbRating,\n",
    "    Country,\n",
    "    Oscars,\n",
    "    tomatoes.Rating as tomatoesRating,\n",
    "    Reviews,\n",
    "    userRating,\n",
    "    BoxOffice,\n",
    "    Production\n",
    "FROM omdb, tomatoes\n",
    "WHERE omdb.ID = tomatoes.ID\n",
    "'''\n",
    "\n",
    "with sql.connect(movie_path) as conn:\n",
    "    movies = pd.read_sql(query, conn)\n",
    "    \n",
    "movies.head()"
   ]
  },
  {
   "cell_type": "code",
   "execution_count": null,
   "metadata": {},
   "outputs": [],
   "source": [
    "hv.extension('matplotlib')"
   ]
  },
  {
   "cell_type": "code",
   "execution_count": null,
   "metadata": {},
   "outputs": [],
   "source": [
    "%%opts NdOverlay [legend_position='bottom' legend_cols=1] NdLayout [vspace=0.5]\n",
    "\n",
    "(movies.query('Country in [\"USA\", \"France\", \"UK\"]')\n",
    "       .groupby(['Year', 'Country'])\n",
    "       .agg({'imdbRating': 'mean',\n",
    "             'tomatoesRating': 'mean',\n",
    "             'userRating': 'mean'})\n",
    "       .stack()\n",
    "       .reset_index()\n",
    "       .rename(columns={'level_2': 'type', 0: 'mean_rating'})\n",
    "       .pipe(hv.Dataset, kdims=['Year', 'type', 'Country'], vdims=['mean_rating'])\n",
    "       .to(hv.Curve, kdims=['Year'], vdims=['mean_rating'])\n",
    "       .overlay(dimensions=['type'])\n",
    "       .layout(dimensions=['Country'])\n",
    "       .cols(2))"
   ]
  },
  {
   "cell_type": "code",
   "execution_count": null,
   "metadata": {},
   "outputs": [],
   "source": [
    "hv.extension('bokeh')"
   ]
  },
  {
   "cell_type": "code",
   "execution_count": null,
   "metadata": {},
   "outputs": [],
   "source": [
    "%%opts Scatter [tools=['hover'] show_grid=True logy=True color_index='Oscars' colorbar=True colorbar_position='left']\n",
    "%%opts Scatter (cmap='viridis' size=5) [width=500 height=500]\n",
    "\n",
    "(movies.query('Year >= 2000')\n",
    "       .pipe(hv.Dataset, kdims=['imdbRating', 'Year'], vdims=['BoxOffice', 'Oscars', 'Title'])\n",
    "       .to(hv.Scatter, kdims=['imdbRating'], vdims=['BoxOffice', 'Oscars', 'Title']))"
   ]
  },
  {
   "cell_type": "markdown",
   "metadata": {
    "collapsed": true
   },
   "source": [
    "# Дополнительные материалы\n",
    "\n",
    "* Документации библиотек: \n",
    "[matplotlib](https://matplotlib.org);\n",
    "[seaborn](http://seaborn.pydata.org);\n",
    "[pandas-visualization](https://pandas.pydata.org/pandas-docs/stable/visualization.html);\n",
    "[bokeh](https://bokeh.pydata.org/en/latest/);\n",
    "[holoviews](http://holoviews.org).\n",
    "* Интерактивные туториалы с [datacamp](https://www.datacamp.com): \n",
    "[matplotlib-tutorial](https://www.datacamp.com/community/tutorials/matplotlib-tutorial-python); \n",
    "[seaborn-tutorial](https://www.datacamp.com/community/tutorials/seaborn-python-tutorial);\n",
    "[pandas-visualization](https://www.datacamp.com/community/tutorials/pandas-idiomatic#visualization).\n",
    "* Обзор библиотек по визуализации от Tom Augspurger: \n",
    "[visualization](https://tomaugspurger.github.io/modern-6-visualization.html).\n",
    "* Другие популярные библиотеки:\n",
    "[Ploty](https://plot.ly/python/); \n",
    "[Lightning](http://lightning-viz.org/);\n",
    "[Glueviz](http://www.glueviz.org/en/stable/);\n",
    "[vispy](http://vispy.org/);\n",
    "[bqplot](https://github.com/bloomberg/bqplot)."
   ]
  },
  {
   "cell_type": "markdown",
   "metadata": {},
   "source": [
    "Доклад Jake VanderPlas с pycon 2017 про стек визуализации на python."
   ]
  },
  {
   "cell_type": "code",
   "execution_count": null,
   "metadata": {},
   "outputs": [],
   "source": [
    "from IPython.display import YouTubeVideo\n",
    "YouTubeVideo('FytuB8nFHPQ', start=240)"
   ]
  }
 ],
 "metadata": {
  "kernelspec": {
   "display_name": "Python 2",
   "language": "python",
   "name": "python2"
  },
  "language_info": {
   "codemirror_mode": {
    "name": "ipython",
    "version": 2
   },
   "file_extension": ".py",
   "mimetype": "text/x-python",
   "name": "python",
   "nbconvert_exporter": "python",
   "pygments_lexer": "ipython2",
   "version": "2.7.14"
  }
 },
 "nbformat": 4,
 "nbformat_minor": 2
}
